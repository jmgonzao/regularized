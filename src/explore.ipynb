{
    "cells": [
        {
            "cell_type": "markdown",
            "metadata": {},
            "source": [
                "# Regularización (Ridge - Lasso)"
            ]
        },
        {
            "cell_type": "code",
            "execution_count": null,
            "metadata": {},
            "outputs": [
                {
                    "data": {
                        "text/html": [
                            "<div>\n",
                            "<style scoped>\n",
                            "    .dataframe tbody tr th:only-of-type {\n",
                            "        vertical-align: middle;\n",
                            "    }\n",
                            "\n",
                            "    .dataframe tbody tr th {\n",
                            "        vertical-align: top;\n",
                            "    }\n",
                            "\n",
                            "    .dataframe thead th {\n",
                            "        text-align: right;\n",
                            "    }\n",
                            "</style>\n",
                            "<table border=\"1\" class=\"dataframe\">\n",
                            "  <thead>\n",
                            "    <tr style=\"text-align: right;\">\n",
                            "      <th></th>\n",
                            "      <th>fips</th>\n",
                            "      <th>TOT_POP</th>\n",
                            "      <th>0-9</th>\n",
                            "      <th>0-9 y/o % of total pop</th>\n",
                            "      <th>19-Oct</th>\n",
                            "      <th>10-19 y/o % of total pop</th>\n",
                            "      <th>20-29</th>\n",
                            "      <th>20-29 y/o % of total pop</th>\n",
                            "      <th>30-39</th>\n",
                            "      <th>30-39 y/o % of total pop</th>\n",
                            "      <th>...</th>\n",
                            "      <th>COPD_number</th>\n",
                            "      <th>diabetes_prevalence</th>\n",
                            "      <th>diabetes_Lower 95% CI</th>\n",
                            "      <th>diabetes_Upper 95% CI</th>\n",
                            "      <th>diabetes_number</th>\n",
                            "      <th>CKD_prevalence</th>\n",
                            "      <th>CKD_Lower 95% CI</th>\n",
                            "      <th>CKD_Upper 95% CI</th>\n",
                            "      <th>CKD_number</th>\n",
                            "      <th>Urban_rural_code</th>\n",
                            "    </tr>\n",
                            "  </thead>\n",
                            "  <tbody>\n",
                            "    <tr>\n",
                            "      <th>0</th>\n",
                            "      <td>1001</td>\n",
                            "      <td>55601</td>\n",
                            "      <td>6787</td>\n",
                            "      <td>12.206615</td>\n",
                            "      <td>7637</td>\n",
                            "      <td>13.735364</td>\n",
                            "      <td>6878</td>\n",
                            "      <td>12.370281</td>\n",
                            "      <td>7089</td>\n",
                            "      <td>12.749771</td>\n",
                            "      <td>...</td>\n",
                            "      <td>3644</td>\n",
                            "      <td>12.9</td>\n",
                            "      <td>11.9</td>\n",
                            "      <td>13.8</td>\n",
                            "      <td>5462</td>\n",
                            "      <td>3.1</td>\n",
                            "      <td>2.9</td>\n",
                            "      <td>3.3</td>\n",
                            "      <td>1326</td>\n",
                            "      <td>3</td>\n",
                            "    </tr>\n",
                            "    <tr>\n",
                            "      <th>1</th>\n",
                            "      <td>1003</td>\n",
                            "      <td>218022</td>\n",
                            "      <td>24757</td>\n",
                            "      <td>11.355276</td>\n",
                            "      <td>26913</td>\n",
                            "      <td>12.344167</td>\n",
                            "      <td>23579</td>\n",
                            "      <td>10.814964</td>\n",
                            "      <td>25213</td>\n",
                            "      <td>11.564429</td>\n",
                            "      <td>...</td>\n",
                            "      <td>14692</td>\n",
                            "      <td>12.0</td>\n",
                            "      <td>11.0</td>\n",
                            "      <td>13.1</td>\n",
                            "      <td>20520</td>\n",
                            "      <td>3.2</td>\n",
                            "      <td>3.0</td>\n",
                            "      <td>3.5</td>\n",
                            "      <td>5479</td>\n",
                            "      <td>4</td>\n",
                            "    </tr>\n",
                            "    <tr>\n",
                            "      <th>2</th>\n",
                            "      <td>1005</td>\n",
                            "      <td>24881</td>\n",
                            "      <td>2732</td>\n",
                            "      <td>10.980266</td>\n",
                            "      <td>2960</td>\n",
                            "      <td>11.896628</td>\n",
                            "      <td>3268</td>\n",
                            "      <td>13.134520</td>\n",
                            "      <td>3201</td>\n",
                            "      <td>12.865239</td>\n",
                            "      <td>...</td>\n",
                            "      <td>2373</td>\n",
                            "      <td>19.7</td>\n",
                            "      <td>18.6</td>\n",
                            "      <td>20.6</td>\n",
                            "      <td>3870</td>\n",
                            "      <td>4.5</td>\n",
                            "      <td>4.2</td>\n",
                            "      <td>4.8</td>\n",
                            "      <td>887</td>\n",
                            "      <td>6</td>\n",
                            "    </tr>\n",
                            "    <tr>\n",
                            "      <th>3</th>\n",
                            "      <td>1007</td>\n",
                            "      <td>22400</td>\n",
                            "      <td>2456</td>\n",
                            "      <td>10.964286</td>\n",
                            "      <td>2596</td>\n",
                            "      <td>11.589286</td>\n",
                            "      <td>3029</td>\n",
                            "      <td>13.522321</td>\n",
                            "      <td>3113</td>\n",
                            "      <td>13.897321</td>\n",
                            "      <td>...</td>\n",
                            "      <td>1789</td>\n",
                            "      <td>14.1</td>\n",
                            "      <td>13.2</td>\n",
                            "      <td>14.9</td>\n",
                            "      <td>2511</td>\n",
                            "      <td>3.3</td>\n",
                            "      <td>3.1</td>\n",
                            "      <td>3.6</td>\n",
                            "      <td>595</td>\n",
                            "      <td>2</td>\n",
                            "    </tr>\n",
                            "    <tr>\n",
                            "      <th>4</th>\n",
                            "      <td>1009</td>\n",
                            "      <td>57840</td>\n",
                            "      <td>7095</td>\n",
                            "      <td>12.266598</td>\n",
                            "      <td>7570</td>\n",
                            "      <td>13.087828</td>\n",
                            "      <td>6742</td>\n",
                            "      <td>11.656293</td>\n",
                            "      <td>6884</td>\n",
                            "      <td>11.901798</td>\n",
                            "      <td>...</td>\n",
                            "      <td>4661</td>\n",
                            "      <td>13.5</td>\n",
                            "      <td>12.6</td>\n",
                            "      <td>14.5</td>\n",
                            "      <td>6017</td>\n",
                            "      <td>3.4</td>\n",
                            "      <td>3.2</td>\n",
                            "      <td>3.7</td>\n",
                            "      <td>1507</td>\n",
                            "      <td>2</td>\n",
                            "    </tr>\n",
                            "  </tbody>\n",
                            "</table>\n",
                            "<p>5 rows × 108 columns</p>\n",
                            "</div>"
                        ],
                        "text/plain": [
                            "   fips  TOT_POP    0-9  0-9 y/o % of total pop  19-Oct  \\\n",
                            "0  1001    55601   6787               12.206615    7637   \n",
                            "1  1003   218022  24757               11.355276   26913   \n",
                            "2  1005    24881   2732               10.980266    2960   \n",
                            "3  1007    22400   2456               10.964286    2596   \n",
                            "4  1009    57840   7095               12.266598    7570   \n",
                            "\n",
                            "   10-19 y/o % of total pop  20-29  20-29 y/o % of total pop  30-39  \\\n",
                            "0                 13.735364   6878                 12.370281   7089   \n",
                            "1                 12.344167  23579                 10.814964  25213   \n",
                            "2                 11.896628   3268                 13.134520   3201   \n",
                            "3                 11.589286   3029                 13.522321   3113   \n",
                            "4                 13.087828   6742                 11.656293   6884   \n",
                            "\n",
                            "   30-39 y/o % of total pop  ...  COPD_number  diabetes_prevalence  \\\n",
                            "0                 12.749771  ...         3644                 12.9   \n",
                            "1                 11.564429  ...        14692                 12.0   \n",
                            "2                 12.865239  ...         2373                 19.7   \n",
                            "3                 13.897321  ...         1789                 14.1   \n",
                            "4                 11.901798  ...         4661                 13.5   \n",
                            "\n",
                            "   diabetes_Lower 95% CI  diabetes_Upper 95% CI  diabetes_number  \\\n",
                            "0                   11.9                   13.8             5462   \n",
                            "1                   11.0                   13.1            20520   \n",
                            "2                   18.6                   20.6             3870   \n",
                            "3                   13.2                   14.9             2511   \n",
                            "4                   12.6                   14.5             6017   \n",
                            "\n",
                            "   CKD_prevalence  CKD_Lower 95% CI  CKD_Upper 95% CI  CKD_number  \\\n",
                            "0             3.1               2.9               3.3        1326   \n",
                            "1             3.2               3.0               3.5        5479   \n",
                            "2             4.5               4.2               4.8         887   \n",
                            "3             3.3               3.1               3.6         595   \n",
                            "4             3.4               3.2               3.7        1507   \n",
                            "\n",
                            "   Urban_rural_code  \n",
                            "0                 3  \n",
                            "1                 4  \n",
                            "2                 6  \n",
                            "3                 2  \n",
                            "4                 2  \n",
                            "\n",
                            "[5 rows x 108 columns]"
                        ]
                    },
                    "execution_count": 2,
                    "metadata": {},
                    "output_type": "execute_result"
                }
            ],
            "source": [
                "# Importar librerías y cargar los datos\n",
                "\n",
                "import pandas as pd\n",
                "import numpy as np\n",
                "from sklearn.model_selection import train_test_split\n",
                "from sklearn.preprocessing import StandardScaler\n",
                "from sklearn.linear_model import LinearRegression\n",
                "from sklearn.linear_model import Lasso\n",
                "from sklearn.metrics import root_mean_squared_error, r2_score\n",
                "import matplotlib.pyplot as plt\n",
                "\n",
                "df = pd.read_csv('https://raw.githubusercontent.com/4GeeksAcademy/regularized-linear-regression-project-tutorial/main/demographic_health_data.csv')\n",
                "df.head()"
            ]
        },
        {
            "cell_type": "code",
            "execution_count": 3,
            "metadata": {},
            "outputs": [],
            "source": [
                "# Almacenar datos\n",
                "\n",
                "df.to_csv('../data/raw/df_raw.csv',index=False)"
            ]
        },
        {
            "cell_type": "code",
            "execution_count": 4,
            "metadata": {},
            "outputs": [
                {
                    "name": "stdout",
                    "output_type": "stream",
                    "text": [
                        "<class 'pandas.core.frame.DataFrame'>\n",
                        "RangeIndex: 3140 entries, 0 to 3139\n",
                        "Columns: 108 entries, fips to Urban_rural_code\n",
                        "dtypes: float64(61), int64(45), object(2)\n",
                        "memory usage: 2.6+ MB\n"
                    ]
                }
            ],
            "source": [
                "# Exploración\n",
                "\n",
                "df.info() "
            ]
        },
        {
            "cell_type": "code",
            "execution_count": 5,
            "metadata": {},
            "outputs": [
                {
                    "name": "stdout",
                    "output_type": "stream",
                    "text": [
                        "<class 'pandas.core.frame.DataFrame'>\n",
                        "RangeIndex: 3140 entries, 0 to 3139\n",
                        "Columns: 108 entries, fips to Urban_rural_code\n",
                        "dtypes: float64(61), int64(47)\n",
                        "memory usage: 2.6 MB\n"
                    ]
                }
            ],
            "source": [
                "# Factorizar variables categóricas\n",
                "\n",
                "for column in df.columns:\n",
                "    if df[column].dtype == 'object':\n",
                "            df[column] = pd.factorize(df[column])[0]\n",
                "df.info()"
            ]
        },
        {
            "cell_type": "code",
            "execution_count": 6,
            "metadata": {},
            "outputs": [],
            "source": [
                "# Definir variable objetivo: Heart disease_prevalence\n",
                "\n",
                "X = df.drop(columns=['Heart disease_prevalence','Heart disease_Lower 95% CI','Heart disease_Upper 95% CI'])\n",
                "y = df['Heart disease_prevalence']"
            ]
        },
        {
            "cell_type": "code",
            "execution_count": 7,
            "metadata": {},
            "outputs": [],
            "source": [
                "# Dividir datos para entrenamiento y pruebas\n",
                "\n",
                "X_train, X_test, y_train, y_test = train_test_split(X,y,test_size=0.2,random_state=42)"
            ]
        },
        {
            "cell_type": "code",
            "execution_count": 8,
            "metadata": {},
            "outputs": [],
            "source": [
                "# Estándarizar los datos\n",
                "\n",
                "scaler = StandardScaler()\n",
                "\n",
                "X_train_esc = scaler.fit_transform(X_train, y_train)\n",
                "X_test_esc = scaler.transform(X_test)\n",
                "\n",
                "X_train_esc = pd.DataFrame(X_train_esc,columns=X_train.columns,index=X_train.index)\n",
                "X_test_esc = pd.DataFrame(X_test_esc,columns=X_test.columns,index=X_test.index)"
            ]
        },
        {
            "cell_type": "code",
            "execution_count": 9,
            "metadata": {},
            "outputs": [
                {
                    "name": "stdout",
                    "output_type": "stream",
                    "text": [
                        "Intercepto : 8.586106687450231\n",
                        "Coeficientes : [-5.31534788e-01  3.75125799e-01 -1.69325804e+00  3.52876791e+05\n",
                        "  1.16783286e-01  2.98634279e+05  5.67992850e-01  5.18497666e+05\n",
                        "  9.93370723e-01  2.86690614e+05  6.80732190e-02  2.23190332e+05\n",
                        "  7.81730944e-02  2.47559620e+05  2.10582984e+00  4.15763657e+05\n",
                        "  7.04713200e-01  3.62336790e+05  9.35644305e-01  2.54334835e+05\n",
                        "  4.29194217e-02  1.32876849e+06  1.94090452e-01  1.17623263e+06\n",
                        " -5.81532088e-02  6.26753684e+05  5.21866330e-02  2.32915226e+05\n",
                        " -1.64690734e-02  8.61579922e+04  5.28233539e-02  1.22658457e+05\n",
                        "  6.38367749e-01  4.78385578e-02  2.39604781e-03 -1.60078335e-01\n",
                        "  1.90460632e-01  3.23103865e-01  1.13361586e-01  4.69601885e-01\n",
                        " -4.50160471e-01 -1.01139830e-01 -4.45587520e-01 -2.31541756e-01\n",
                        " -7.41232285e-01  3.99397574e-01  5.03119610e-01  3.35371228e-01\n",
                        "  6.60532551e-01 -3.41364174e-01  1.28485896e-01 -4.85297784e-02\n",
                        " -1.00385718e-02  3.69352776e-02 -7.77203559e-02 -5.07552268e-02\n",
                        " -1.02682185e-01  7.14853129e-02  4.10231177e-01 -3.31734078e-02\n",
                        "  7.55773729e-02  5.73484278e-02  1.28792791e-01 -2.67696825e-01\n",
                        " -6.10087121e-01  5.63579170e-01  3.73961805e-01 -2.84303215e-01\n",
                        "  1.44797971e-01 -5.99757138e-02 -2.68104351e-02  1.72584084e-01\n",
                        "  1.84824252e-01 -1.06511289e-01  3.43032943e-02  5.64402730e+00\n",
                        " -3.81379954e+00  8.35401542e-02  1.53579167e-02  1.16849316e+00\n",
                        " -5.96733313e-01  1.28012027e-03 -5.73303592e+00  2.08762966e-01\n",
                        "  1.77998722e-01 -2.15207081e-01  1.53707148e-01  9.47783596e-03\n",
                        "  1.12618310e-02  5.97293314e-03 -4.60549675e-01  3.11770206e+00\n",
                        "  4.24562050e-01  2.27800665e-01  1.17011883e-01 -1.32708932e+00\n",
                        "  1.36888773e-01 -1.04701835e-01 -4.37186771e-02 -5.27798611e-01\n",
                        "  2.66470975e-01  8.49262638e-02  3.89788772e-01 -1.09254326e+00\n",
                        "  2.99812829e-02]\n"
                    ]
                }
            ],
            "source": [
                "# Construir modelo de regresión\n",
                "\n",
                "model_lr = LinearRegression()\n",
                "model_lr.fit(X_train_esc,y_train)\n",
                "\n",
                "print(f'Intercepto : {model_lr.intercept_}')\n",
                "print(f'Coeficientes : {model_lr.coef_}')"
            ]
        },
        {
            "cell_type": "code",
            "execution_count": 10,
            "metadata": {},
            "outputs": [
                {
                    "name": "stdout",
                    "output_type": "stream",
                    "text": [
                        "RMSE : 0.21767138871970504\n",
                        "R2 :0.9844940091787406\n"
                    ]
                }
            ],
            "source": [
                "# Generar predicción (ejecución del modelo data entrenamiento)\n",
                "\n",
                "y_pred_train_lr = model_lr.predict(X_train_esc)\n",
                "\n",
                "print(f'RMSE : {root_mean_squared_error(y_train,y_pred_train_lr)}')\n",
                "print(f'R2 :{r2_score(y_train,y_pred_train_lr)}')"
            ]
        },
        {
            "cell_type": "code",
            "execution_count": 11,
            "metadata": {},
            "outputs": [
                {
                    "name": "stdout",
                    "output_type": "stream",
                    "text": [
                        "RMSE : 0.23251911149615317\n",
                        "R2 :0.9832419180657832\n"
                    ]
                }
            ],
            "source": [
                "# Generar predicción (ejecución del modelo data pruebas)\n",
                "\n",
                "y_pred_lr = model_lr.predict(X_test_esc)\n",
                "from sklearn.metrics import root_mean_squared_error, r2_score\n",
                "\n",
                "print(f'RMSE : {root_mean_squared_error(y_test,y_pred_lr)}')\n",
                "print(f'R2 :{r2_score(y_test,y_pred_lr)}')"
            ]
        },
        {
            "cell_type": "code",
            "execution_count": 12,
            "metadata": {},
            "outputs": [
                {
                    "name": "stdout",
                    "output_type": "stream",
                    "text": [
                        "RMSE : 0.3464645580802435\n",
                        "R2 :0.962793002143672\n"
                    ]
                }
            ],
            "source": [
                "# Modelo LASSO\n",
                "\n",
                "model_lasso = Lasso(alpha=0.1,max_iter=1000000)\n",
                "\n",
                "model_lasso.fit(X_train_esc,y_train)\n",
                "y_pred = model_lasso.predict(X_test_esc)\n",
                "\n",
                "print(f'RMSE : {root_mean_squared_error(y_test,y_pred)}')\n",
                "print(f'R2 :{r2_score(y_test,y_pred)}')"
            ]
        },
        {
            "cell_type": "code",
            "execution_count": 13,
            "metadata": {},
            "outputs": [
                {
                    "name": "stdout",
                    "output_type": "stream",
                    "text": [
                        "Coenficientes Lasso: [ 0.         -0.         -0.          0.         -0.         -0.\n",
                        " -0.         -0.         -0.         -0.         -0.         -0.\n",
                        " -0.          0.         -0.          0.         -0.          0.08584374\n",
                        " -0.          0.06628764 -0.          0.         -0.         -0.05367902\n",
                        " -0.          0.         -0.         -0.         -0.         -0.\n",
                        " -0.          0.         -0.         -0.         -0.         -0.\n",
                        "  0.         -0.         -0.         -0.         -0.         -0.\n",
                        " -0.         -0.         -0.          0.          0.          0.\n",
                        " -0.         -0.          0.          0.          0.         -0.\n",
                        " -0.         -0.         -0.         -0.         -0.          0.\n",
                        " -0.         -0.         -0.         -0.         -0.         -0.\n",
                        "  0.          0.         -0.         -0.         -0.         -0.\n",
                        " -0.         -0.         -0.         -0.         -0.          0.11607901\n",
                        "  0.          0.          0.          0.         -0.          0.\n",
                        "  0.          0.13801932 -0.          0.          0.          0.\n",
                        " -0.         -0.          0.          0.          0.71678819 -0.\n",
                        "  0.          0.          0.         -0.          0.          0.\n",
                        "  0.72030919 -0.          0.03471677]\n"
                    ]
                }
            ],
            "source": [
                "print(f'Coenficientes Lasso: {model_lasso.coef_}')"
            ]
        },
        {
            "cell_type": "code",
            "execution_count": 15,
            "metadata": {},
            "outputs": [
                {
                    "data": {
                        "text/plain": [
                            "{'70-79 y/o % of total pop': np.float64(0.08584374147019415),\n",
                            " '80+ y/o % of total pop': np.float64(0.06628763799911085),\n",
                            " 'Percent of Population Aged 60+': np.float64(0.11607901116035071),\n",
                            " 'anycondition_Upper 95% CI': np.float64(0.1380193216407255),\n",
                            " 'COPD_Upper 95% CI': np.float64(0.7167881896157354),\n",
                            " 'CKD_Upper 95% CI': np.float64(0.720309185125694)}"
                        ]
                    },
                    "execution_count": 15,
                    "metadata": {},
                    "output_type": "execute_result"
                }
            ],
            "source": [
                "# Identificar las variables relevantes para el modelo\n",
                "\n",
                "resultados = {X_train.columns[i]:model_lasso.coef_[i] for i in range(len(X_train.columns)) if model_lasso.coef_[i]>0.05}\n",
                "resultados"
            ]
        },
        {
            "cell_type": "code",
            "execution_count": 16,
            "metadata": {},
            "outputs": [
                {
                    "data": {
                        "text/plain": [
                            "array([ 0.        ,  1.05263158,  2.10526316,  3.15789474,  4.21052632,\n",
                            "        5.26315789,  6.31578947,  7.36842105,  8.42105263,  9.47368421,\n",
                            "       10.52631579, 11.57894737, 12.63157895, 13.68421053, 14.73684211,\n",
                            "       15.78947368, 16.84210526, 17.89473684, 18.94736842, 20.        ])"
                        ]
                    },
                    "execution_count": 16,
                    "metadata": {},
                    "output_type": "execute_result"
                }
            ],
            "source": [
                "# Análisis modificando hiperparámetros del modelo\n",
                "\n",
                "alphas = np.linspace(0,20,20)\n",
                "alphas"
            ]
        },
        {
            "cell_type": "code",
            "execution_count": 20,
            "metadata": {},
            "outputs": [
                {
                    "name": "stderr",
                    "output_type": "stream",
                    "text": [
                        "/home/vscode/.local/lib/python3.11/site-packages/sklearn/base.py:1363: UserWarning: With alpha=0, this algorithm does not converge well. You are advised to use the LinearRegression estimator\n",
                        "  return fit_method(estimator, *args, **kwargs)\n",
                        "/home/vscode/.local/lib/python3.11/site-packages/sklearn/linear_model/_coordinate_descent.py:695: UserWarning: Coordinate descent with no regularization may lead to unexpected results and is discouraged.\n",
                        "  model = cd_fast.enet_coordinate_descent(\n",
                        "/home/vscode/.local/lib/python3.11/site-packages/sklearn/linear_model/_coordinate_descent.py:695: ConvergenceWarning: Objective did not converge. You might want to increase the number of iterations, check the scale of the features or consider increasing regularisation. Duality gap: 6.310e+01, tolerance: 7.676e-01\n",
                        "Linear regression models with a zero l1 penalization strength are more efficiently fitted using one of the solvers implemented in sklearn.linear_model.Ridge/RidgeCV instead.\n",
                        "  model = cd_fast.enet_coordinate_descent(\n"
                    ]
                },
                {
                    "data": {
                        "image/png": "[encoded data removed]",
                        "text/plain": [
                            "<Figure size 640x480 with 1 Axes>"
                        ]
                    },
                    "metadata": {},
                    "output_type": "display_data"
                }
            ],
            "source": [
                "# Gráfico para interpretar los resultados\n",
                "\n",
                "R2 = []\n",
                "for a in alphas:\n",
                "    model = Lasso(alpha=a,max_iter=1000)\n",
                "    model.fit(X_train_esc,y_train)\n",
                "    y_pred = model.predict(X_test_esc)\n",
                "    R2.append(r2_score(y_test,y_pred))\n",
                "\n",
                "plt.plot(alphas, R2, marker='o', linestyle='-')\n",
                "plt.xlabel(\"Valor de Alpha\")  # Etiqueta del eje X\n",
                "plt.ylabel(\"R² (Score de predicción)\")  # Etiqueta del eje Y\n",
                "plt.title(\"Desempeño del Modelo Lasso\")  # Título del gráfico\n",
                "\n",
                "plt.grid(True)\n",
                "plt.tight_layout()\n",
                "plt.show()"
            ]
        },
        {
            "cell_type": "code",
            "execution_count": null,
            "metadata": {},
            "outputs": [
                {
                    "name": "stdout",
                    "output_type": "stream",
                    "text": [
                        "Mejor alpha según CV: 0.1\n"
                    ]
                }
            ],
            "source": [
                "# Identificar el valor óptimo de alpha\n",
                "\n",
                "from sklearn.linear_model import LassoCV\n",
                "\n",
                "modelo_cv = LassoCV(alphas=[0.1, 0.5, 1, 5, 10, 20], cv=5, max_iter=1000000)\n",
                "modelo_cv.fit(X_train_esc, y_train)\n",
                "\n",
                "print(f\"Mejor alpha según CV: {modelo_cv.alpha_}\")\n"
            ]
        },
        {
            "cell_type": "markdown",
            "metadata": {},
            "source": [
                "CONCLUSIONES:\n",
                "\n",
                "El parámetro alpha permite modificar la penalización que hace el modelo. Luego de hacer el ejercicio de probar con diferentes valores desde 0.0 hasta 20, se puede interpretar que:\n",
                "\n",
                "- Si el valor de alpha es 0.0, quiere decir que no hay regularización y por lo tanto todos los coeficientes se mantienen. Sería igual a un modelo de regresión lineal normal.\n",
                "- Cuando el valor de alpha es mayor a 0.0 pero bajo como por ejemplo: 0.1 se evidencia que algunos coeficientes se reducen y el modelo descarta las variables que no aportan, es el escenario más eficiente\n",
                "- Finalmente, cuando el alpha es muy alto (por ejemplo 20) el modelo pierde capacidad predictiva porque la penalización es muy fuerte y hace que los coeficientes vayan a cero y no se logren identificar las variables relevantes"
            ]
        },
        {
            "cell_type": "code",
            "execution_count": null,
            "metadata": {},
            "outputs": [],
            "source": []
        },
        {
            "cell_type": "code",
            "execution_count": null,
            "metadata": {},
            "outputs": [],
            "source": []
        }
    ],
    "metadata": {
        "kernelspec": {
            "display_name": "Python 3",
            "language": "python",
            "name": "python3"
        },
        "language_info": {
            "codemirror_mode": {
                "name": "ipython",
                "version": 3
            },
            "file_extension": ".py",
            "mimetype": "text/x-python",
            "name": "python",
            "nbconvert_exporter": "python",
            "pygments_lexer": "ipython3",
            "version": "3.11.4"
        },
        "orig_nbformat": 4
    },
    "nbformat": 4,
    "nbformat_minor": 2
}
